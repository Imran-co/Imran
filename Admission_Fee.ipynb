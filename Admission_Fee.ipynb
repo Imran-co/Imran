{
  "nbformat": 4,
  "nbformat_minor": 0,
  "metadata": {
    "colab": {
      "provenance": [],
      "authorship_tag": "ABX9TyOPhSYGh5UsoZfmoJuO5EVt",
      "include_colab_link": true
    },
    "kernelspec": {
      "name": "python3",
      "display_name": "Python 3"
    },
    "language_info": {
      "name": "python"
    }
  },
  "cells": [
    {
      "cell_type": "markdown",
      "metadata": {
        "id": "view-in-github",
        "colab_type": "text"
      },
      "source": [
        "<a href=\"https://colab.research.google.com/github/Imran-co/Imran/blob/main/Admission_Fee.ipynb\" target=\"_parent\"><img src=\"https://colab.research.google.com/assets/colab-badge.svg\" alt=\"Open In Colab\"/></a>"
      ]
    },
    {
      "cell_type": "code",
      "execution_count": 4,
      "metadata": {
        "colab": {
          "base_uri": "https://localhost:8080/"
        },
        "id": "Ls4Oayb2nxXJ",
        "outputId": "5e6d0786-435d-42d8-c039-3bfd744d9389"
      },
      "outputs": [
        {
          "output_type": "stream",
          "name": "stdout",
          "text": [
            "Number of Children attending the fair: 1500\n",
            "Number of Adults attending the fair: 700\n"
          ]
        }
      ],
      "source": [
        "from sympy import symbols,Eq,solve\n",
        "\n",
        "x,y=symbols('x,y')\n",
        "\n",
        "equation1=Eq(x+y,2200)\n",
        "equation2=Eq(1.5*x+4*y,5050)\n",
        "solution=solve((equation1,equation2),(x,y))\n",
        "child_count=solution[x]\n",
        "adult_count=solution[y]\n",
        "print(\"Number of Children attending the fair:\",int(child_count))\n",
        "print(\"Number of Adults attending the fair:\",int(adult_count))\n"
      ]
    }
  ]
}