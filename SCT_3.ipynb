{
  "nbformat": 4,
  "nbformat_minor": 0,
  "metadata": {
    "colab": {
      "provenance": [],
      "authorship_tag": "ABX9TyOQLX6LKt8O1fEKHWUaxq4A",
      "include_colab_link": true
    },
    "kernelspec": {
      "name": "python3",
      "display_name": "Python 3"
    },
    "language_info": {
      "name": "python"
    }
  },
  "cells": [
    {
      "cell_type": "markdown",
      "metadata": {
        "id": "view-in-github",
        "colab_type": "text"
      },
      "source": [
        "<a href=\"https://colab.research.google.com/github/Imran-co/Imran/blob/main/SCT_3.ipynb\" target=\"_parent\"><img src=\"https://colab.research.google.com/assets/colab-badge.svg\" alt=\"Open In Colab\"/></a>"
      ]
    },
    {
      "cell_type": "code",
      "source": [
        "import numpy as np\n",
        "\n",
        "# Activation function (step function)\n",
        "def step_function(x):\n",
        "    return 1 if x >= 0 else 0\n",
        "\n",
        "# Perceptron class with Delta rule\n",
        "class Perceptron:\n",
        "    def __init__(self, input_size, learning_rate=0.1):\n",
        "        self.learning_rate = learning_rate\n",
        "        self.weights = np.random.randn(input_size + 1)  # Including bias term\n",
        "        self.weights[0] = 0  # Initialize bias to 0\n",
        "\n",
        "    def predict(self, inputs):\n",
        "        inputs = np.insert(inputs, 0, 1)  # Add bias term to input\n",
        "        summation = np.dot(self.weights, inputs)\n",
        "        return step_function(summation)\n",
        "\n",
        "    def train(self, training_inputs, labels, epochs=10):\n",
        "        for epoch in range(epochs):\n",
        "            total_error = 0\n",
        "            for inputs, label in zip(training_inputs, labels):\n",
        "                inputs = np.insert(inputs, 0, 1)  # Add bias term to input\n",
        "                prediction = self.predict(inputs[1:])\n",
        "                error = label - prediction\n",
        "                total_error += abs(error)\n",
        "                # Update weights using the Delta rule\n",
        "                self.weights += self.learning_rate * error * inputs\n",
        "            print(f\"Epoch {epoch+1}/{epochs}, Total Error: {total_error}, Weights: {self.weights}\")\n",
        "\n",
        "    def evaluate(self, test_inputs, test_labels):\n",
        "        correct_predictions = 0\n",
        "        for inputs, label in zip(test_inputs, test_labels):\n",
        "            prediction = self.predict(inputs)\n",
        "            if prediction == label:\n",
        "                correct_predictions += 1\n",
        "        accuracy = (correct_predictions / len(test_labels)) * 100\n",
        "        return accuracy\n",
        "\n",
        "# Generate a simple linearly separable dataset\n",
        "def generate_dataset():\n",
        "    # X = inputs, y = labels\n",
        "    X = np.array([[0, 0], [0, 1], [1, 0], [1, 1]])\n",
        "    y = np.array([0, 0, 0, 1])  # AND gate\n",
        "    return X, y\n",
        "\n",
        "# Main function to train and test the perceptron\n",
        "if __name__ == \"__main__\":\n",
        "    # Generate the dataset\n",
        "    X_train, y_train = generate_dataset()\n",
        "\n",
        "    # Initialize the perceptron\n",
        "    perceptron = Perceptron(input_size=2, learning_rate=0.1)\n",
        "\n",
        "    # Train the perceptron\n",
        "    perceptron.train(X_train, y_train, epochs=10)\n",
        "\n",
        "    # Test the perceptron\n",
        "    accuracy = perceptron.evaluate(X_train, y_train)\n",
        "    print(f\"Training accuracy: {accuracy}%\")\n",
        "\n",
        "    # Test on new data\n",
        "    new_data = np.array([[0, 1], [1, 1]])\n",
        "    predictions = [perceptron.predict(inputs) for inputs in new_data]\n",
        "    print(f\"Predictions on new data: {predictions}\")"
      ],
      "metadata": {
        "colab": {
          "base_uri": "https://localhost:8080/"
        },
        "id": "iM8Frqsa5XqG",
        "outputId": "10d0cf36-4a19-4e19-d8a3-e324bff6742c"
      },
      "execution_count": 4,
      "outputs": [
        {
          "output_type": "stream",
          "name": "stdout",
          "text": [
            "Epoch 1/10, Total Error: 3, Weights: [-0.3         0.89056714  0.18720269]\n",
            "Epoch 2/10, Total Error: 1, Weights: [-0.4         0.79056714  0.18720269]\n",
            "Epoch 3/10, Total Error: 1, Weights: [-0.5         0.69056714  0.18720269]\n",
            "Epoch 4/10, Total Error: 1, Weights: [-0.6         0.59056714  0.18720269]\n",
            "Epoch 5/10, Total Error: 0, Weights: [-0.6         0.59056714  0.18720269]\n",
            "Epoch 6/10, Total Error: 0, Weights: [-0.6         0.59056714  0.18720269]\n",
            "Epoch 7/10, Total Error: 0, Weights: [-0.6         0.59056714  0.18720269]\n",
            "Epoch 8/10, Total Error: 0, Weights: [-0.6         0.59056714  0.18720269]\n",
            "Epoch 9/10, Total Error: 0, Weights: [-0.6         0.59056714  0.18720269]\n",
            "Epoch 10/10, Total Error: 0, Weights: [-0.6         0.59056714  0.18720269]\n",
            "Training accuracy: 100.0%\n",
            "Predictions on new data: [0, 1]\n"
          ]
        }
      ]
    }
  ]
}