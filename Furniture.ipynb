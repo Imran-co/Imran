{
  "nbformat": 4,
  "nbformat_minor": 0,
  "metadata": {
    "colab": {
      "provenance": [],
      "authorship_tag": "ABX9TyPFULSVgDtgW+KziysKGrBy",
      "include_colab_link": true
    },
    "kernelspec": {
      "name": "python3",
      "display_name": "Python 3"
    },
    "language_info": {
      "name": "python"
    }
  },
  "cells": [
    {
      "cell_type": "markdown",
      "metadata": {
        "id": "view-in-github",
        "colab_type": "text"
      },
      "source": [
        "<a href=\"https://colab.research.google.com/github/Imran-co/Imran/blob/main/Furniture.ipynb\" target=\"_parent\"><img src=\"https://colab.research.google.com/assets/colab-badge.svg\" alt=\"Open In Colab\"/></a>"
      ]
    },
    {
      "cell_type": "code",
      "source": [
        "import pandas as pd\n",
        "from sklearn.tree import DecisionTreeClassifier\n",
        "from sklearn.model_selection import train_test_split\n",
        "from sklearn.metrics import accuracy_score\n",
        "from sklearn.tree import export_text\n",
        "\n",
        "# Step 1: Read the dataset from the CSV file\n",
        "df = pd.read_csv('House.csv')\n",
        "\n",
        "# Step 2: Preprocess the data (convert categorical to numerical)\n",
        "df['Furniture'] = df['Furniture'].map({'Yes': 1, 'No': 0})\n",
        "df['New kitchen'] = df['New kitchen'].map({'Yes': 1, 'No': 0})\n",
        "df['Acceptable'] = df['Acceptable'].map({'Yes': 1, 'No': 0})\n",
        "\n",
        "# Step 3: Define the features (X) and target (y)\n",
        "X = df[['Furniture', 'No. room', 'New kitchen']]  # Features\n",
        "y = df['Acceptable']  # Target\n",
        "\n",
        "# Step 4: Split the data into training and testing sets\n",
        "X_train, X_test, y_train, y_test = train_test_split(X, y, test_size=0.2, random_state=42)\n",
        "\n",
        "# Step 5: Train the Decision Tree model\n",
        "model = DecisionTreeClassifier(random_state=42)\n",
        "model.fit(X_train, y_train)\n",
        "\n",
        "# Step 6: Make predictions\n",
        "y_pred = model.predict(X_test)\n",
        "\n",
        "# Step 7: Evaluate the model\n",
        "accuracy = accuracy_score(y_test, y_pred)\n",
        "print(f\"Accuracy of the Decision Tree model: {accuracy * 100:.2f}%\")\n",
        "\n",
        "# Step 8: Visualize the decision tree rules (optional)\n",
        "tree_rules = export_text(model, feature_names=['Furniture', 'No. room', 'New kitchen'])\n",
        "print(\"\\nDecision Tree rules:\")\n",
        "print(tree_rules)"
      ],
      "metadata": {
        "colab": {
          "base_uri": "https://localhost:8080/"
        },
        "id": "KTjAUluEcOh9",
        "outputId": "3836d370-b10d-4d5b-f482-aa3e8fdf40c0"
      },
      "execution_count": null,
      "outputs": [
        {
          "output_type": "stream",
          "name": "stdout",
          "text": [
            "Accuracy of the Decision Tree model: 100.00%\n",
            "\n",
            "Decision Tree rules:\n",
            "|--- No. room <= 3.50\n",
            "|   |--- New kitchen <= 0.50\n",
            "|   |   |--- class: 0\n",
            "|   |--- New kitchen >  0.50\n",
            "|   |   |--- class: 1\n",
            "|--- No. room >  3.50\n",
            "|   |--- class: 1\n",
            "\n"
          ]
        }
      ]
    },
    {
      "cell_type": "code",
      "source": [
        "import numpy as np\n",
        "# Given dataset\n",
        "labels = df['Acceptable']\n",
        "\n",
        "def calculate_entropy(labels):\n",
        "    unique_labels, label_counts = np.unique(labels, return_counts=True)\n",
        "    probabilities = label_counts / len(labels)\n",
        "    entropy = -np.sum(probabilities * np.log2(probabilities + 1e-10))  # Added a small epsilon to avoid log(0)\n",
        "    return entropy\n",
        "\n",
        "entropy = calculate_entropy(labels)\n",
        "print(\"Entropy:\", entropy)\n"
      ],
      "metadata": {
        "colab": {
          "base_uri": "https://localhost:8080/"
        },
        "id": "ljjPoYCWdFTD",
        "outputId": "eb56c2fb-e3e5-4b28-9517-bb6feeee0934"
      },
      "execution_count": null,
      "outputs": [
        {
          "output_type": "stream",
          "name": "stdout",
          "text": [
            "Entropy: 0.9709505941661296\n"
          ]
        }
      ]
    },
    {
      "cell_type": "code",
      "source": [],
      "metadata": {
        "id": "P6K0u1lWd-El"
      },
      "execution_count": null,
      "outputs": []
    },
    {
      "cell_type": "code",
      "source": [
        "model = DecisionTreeClassifier(criterion='entropy')\n",
        "\n",
        "# Function to calculate information gain for each feature\n",
        "def calculate_information_gain(X, y, feature):\n",
        "    X_feature = X[feature]\n",
        "    X_train, X_test, y_train, y_test = train_test_split(X_feature, y, test_size=0.2, random_state=42)\n",
        "\n",
        "    model.fit(X_train.values.reshape(-1, 1), y_train)\n",
        "\n",
        "    # Information Gain calculation\n",
        "    information_gain = model.tree_.impurity[0] - model.tree_.impurity[1]\n",
        "\n",
        "    return information_gain\n",
        "\n",
        "# Display information gain for each feature\n",
        "for feature in X.columns:\n",
        "    information_gain = calculate_information_gain(X, y, feature)\n",
        "    print(f\"Information Gain for {feature}: {information_gain}\")\n"
      ],
      "metadata": {
        "colab": {
          "base_uri": "https://localhost:8080/"
        },
        "id": "-UeNXIAZdTao",
        "outputId": "91c5924d-4889-41e3-ebb0-1a799d4b0837"
      },
      "execution_count": null,
      "outputs": [
        {
          "output_type": "stream",
          "name": "stdout",
          "text": [
            "Information Gain for Furniture: -0.18872187554086717\n",
            "Information Gain for No. room: -0.18872187554086717\n",
            "Information Gain for New kitchen: -0.10701770959535672\n"
          ]
        }
      ]
    }
  ]
}