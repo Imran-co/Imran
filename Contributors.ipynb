{
  "nbformat": 4,
  "nbformat_minor": 0,
  "metadata": {
    "colab": {
      "provenance": [],
      "authorship_tag": "ABX9TyPfPqLkXqJj5p4JVeRzdMOg",
      "include_colab_link": true
    },
    "kernelspec": {
      "name": "python3",
      "display_name": "Python 3"
    },
    "language_info": {
      "name": "python"
    }
  },
  "cells": [
    {
      "cell_type": "markdown",
      "metadata": {
        "id": "view-in-github",
        "colab_type": "text"
      },
      "source": [
        "<a href=\"https://colab.research.google.com/github/Imran-co/Imran/blob/main/Contributors.ipynb\" target=\"_parent\"><img src=\"https://colab.research.google.com/assets/colab-badge.svg\" alt=\"Open In Colab\"/></a>"
      ]
    },
    {
      "cell_type": "code",
      "execution_count": 1,
      "metadata": {
        "colab": {
          "base_uri": "https://localhost:8080/"
        },
        "id": "x39r9nWD1luM",
        "outputId": "e08e37f2-67dc-4994-af6c-1e4b1f7e4e54"
      },
      "outputs": [
        {
          "output_type": "stream",
          "name": "stdout",
          "text": [
            "csv file created successfully\n"
          ]
        }
      ],
      "source": [
        "import pandas as pd\n",
        "data={\n",
        "    'SN':[1,2,3],\n",
        "    'Name':['Linus Torvalds','Tim Berners-Lee','Guido van Rossum'],\n",
        "    'Country':['Finland','England','Netherlands'],\n",
        "    'Contributions':['Linux Kernel','World Wide Web','Python'],\n",
        "    'Year':[1991,1990,1991]\n",
        "    }\n",
        "df=pd.DataFrame(data)\n",
        "df.to_csv('countributors.csv', index=False)\n",
        "print(\"csv file created successfully\")\n"
      ]
    }
  ]
}