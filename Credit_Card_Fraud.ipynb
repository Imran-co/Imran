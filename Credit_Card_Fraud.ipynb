{
  "nbformat": 4,
  "nbformat_minor": 0,
  "metadata": {
    "colab": {
      "provenance": [],
      "authorship_tag": "ABX9TyN23Xwe6TNBvWzpr+aX3Rvz",
      "include_colab_link": true
    },
    "kernelspec": {
      "name": "python3",
      "display_name": "Python 3"
    },
    "language_info": {
      "name": "python"
    }
  },
  "cells": [
    {
      "cell_type": "markdown",
      "metadata": {
        "id": "view-in-github",
        "colab_type": "text"
      },
      "source": [
        "<a href=\"https://colab.research.google.com/github/Imran-co/Imran/blob/main/Credit_Card_Fraud.ipynb\" target=\"_parent\"><img src=\"https://colab.research.google.com/assets/colab-badge.svg\" alt=\"Open In Colab\"/></a>"
      ]
    },
    {
      "cell_type": "code",
      "execution_count": 1,
      "metadata": {
        "colab": {
          "base_uri": "https://localhost:8080/"
        },
        "id": "4NEZdzQURfLk",
        "outputId": "bc6f5966-1f21-4278-8d5f-415fc185702a"
      },
      "outputs": [
        {
          "output_type": "stream",
          "name": "stdout",
          "text": [
            "Requirement already satisfied: pandas in /usr/local/lib/python3.10/dist-packages (2.2.2)\n",
            "Requirement already satisfied: numpy in /usr/local/lib/python3.10/dist-packages (1.26.4)\n",
            "Requirement already satisfied: scikit-learn in /usr/local/lib/python3.10/dist-packages (1.6.0)\n",
            "Requirement already satisfied: imbalanced-learn in /usr/local/lib/python3.10/dist-packages (0.12.4)\n",
            "Requirement already satisfied: matplotlib in /usr/local/lib/python3.10/dist-packages (3.8.0)\n",
            "Requirement already satisfied: seaborn in /usr/local/lib/python3.10/dist-packages (0.13.2)\n",
            "Requirement already satisfied: python-dateutil>=2.8.2 in /usr/local/lib/python3.10/dist-packages (from pandas) (2.8.2)\n",
            "Requirement already satisfied: pytz>=2020.1 in /usr/local/lib/python3.10/dist-packages (from pandas) (2024.2)\n",
            "Requirement already satisfied: tzdata>=2022.7 in /usr/local/lib/python3.10/dist-packages (from pandas) (2024.2)\n",
            "Requirement already satisfied: scipy>=1.6.0 in /usr/local/lib/python3.10/dist-packages (from scikit-learn) (1.13.1)\n",
            "Requirement already satisfied: joblib>=1.2.0 in /usr/local/lib/python3.10/dist-packages (from scikit-learn) (1.4.2)\n",
            "Requirement already satisfied: threadpoolctl>=3.1.0 in /usr/local/lib/python3.10/dist-packages (from scikit-learn) (3.5.0)\n",
            "Requirement already satisfied: contourpy>=1.0.1 in /usr/local/lib/python3.10/dist-packages (from matplotlib) (1.3.1)\n",
            "Requirement already satisfied: cycler>=0.10 in /usr/local/lib/python3.10/dist-packages (from matplotlib) (0.12.1)\n",
            "Requirement already satisfied: fonttools>=4.22.0 in /usr/local/lib/python3.10/dist-packages (from matplotlib) (4.55.3)\n",
            "Requirement already satisfied: kiwisolver>=1.0.1 in /usr/local/lib/python3.10/dist-packages (from matplotlib) (1.4.7)\n",
            "Requirement already satisfied: packaging>=20.0 in /usr/local/lib/python3.10/dist-packages (from matplotlib) (24.2)\n",
            "Requirement already satisfied: pillow>=6.2.0 in /usr/local/lib/python3.10/dist-packages (from matplotlib) (11.0.0)\n",
            "Requirement already satisfied: pyparsing>=2.3.1 in /usr/local/lib/python3.10/dist-packages (from matplotlib) (3.2.0)\n",
            "Requirement already satisfied: six>=1.5 in /usr/local/lib/python3.10/dist-packages (from python-dateutil>=2.8.2->pandas) (1.17.0)\n"
          ]
        }
      ],
      "source": [
        "pip install pandas numpy scikit-learn imbalanced-learn matplotlib seaborn\n"
      ]
    },
    {
      "cell_type": "code",
      "source": [
        "print(data.columns)"
      ],
      "metadata": {
        "colab": {
          "base_uri": "https://localhost:8080/"
        },
        "id": "N0Krbos4UCDp",
        "outputId": "2ac52409-aea2-481c-faa3-6607f8dc144e"
      },
      "execution_count": 9,
      "outputs": [
        {
          "output_type": "stream",
          "name": "stdout",
          "text": [
            "Index(['TransactionID', 'TransactionDate', 'MerchantID', 'TransactionType',\n",
            "       'Location', 'IsFraud', 'scaled_amount'],\n",
            "      dtype='object')\n"
          ]
        }
      ]
    },
    {
      "cell_type": "code",
      "source": [
        "target_column = 'IsFraud'  # Replace with the actual column name\n",
        "X = data.drop(target_column, axis=1)\n",
        "y = data[target_column]\n"
      ],
      "metadata": {
        "id": "UtYEajn_UwiU"
      },
      "execution_count": 10,
      "outputs": []
    },
    {
      "cell_type": "code",
      "source": [
        "import pandas as pd\n",
        "import numpy as np\n",
        "from sklearn.model_selection import train_test_split\n",
        "from sklearn.preprocessing import StandardScaler\n",
        "from sklearn.ensemble import RandomForestClassifier\n",
        "from sklearn.metrics import classification_report, confusion_matrix, roc_auc_score\n",
        "import matplotlib.pyplot as plt\n",
        "import seaborn as sns\n"
      ],
      "metadata": {
        "id": "f1P1fqclV60r"
      },
      "execution_count": 18,
      "outputs": []
    },
    {
      "cell_type": "code",
      "source": [
        "# Load the dataset\n",
        "data = pd.read_csv(\"credit_card_fraud_dataset.csv\")\n",
        "\n",
        "# Data overview\n",
        "print(data.head())\n",
        "print(data.info())\n",
        "print(data.describe())\n",
        "\n",
        "# Check for missing values\n",
        "print(data.isnull().sum())\n",
        "\n",
        "#\n"
      ],
      "metadata": {
        "colab": {
          "base_uri": "https://localhost:8080/"
        },
        "id": "1wP3wAD-WA5A",
        "outputId": "fe666847-5f8c-4d4b-d1e0-aaf74c17e5c9"
      },
      "execution_count": 19,
      "outputs": [
        {
          "output_type": "stream",
          "name": "stdout",
          "text": [
            "   TransactionID             TransactionDate   Amount  MerchantID  \\\n",
            "0              1  2024-04-03 14:15:35.462794  4189.27         688   \n",
            "1              2  2024-03-19 13:20:35.462824  2659.71         109   \n",
            "2              3  2024-01-08 10:08:35.462834   784.00         394   \n",
            "3              4  2024-04-13 23:50:35.462850  3514.40         944   \n",
            "4              5  2024-07-12 18:51:35.462858   369.07         475   \n",
            "\n",
            "  TransactionType      Location  IsFraud  \n",
            "0          refund   San Antonio        0  \n",
            "1          refund        Dallas        0  \n",
            "2        purchase      New York        0  \n",
            "3        purchase  Philadelphia        0  \n",
            "4        purchase       Phoenix        0  \n",
            "<class 'pandas.core.frame.DataFrame'>\n",
            "RangeIndex: 100000 entries, 0 to 99999\n",
            "Data columns (total 7 columns):\n",
            " #   Column           Non-Null Count   Dtype  \n",
            "---  ------           --------------   -----  \n",
            " 0   TransactionID    100000 non-null  int64  \n",
            " 1   TransactionDate  100000 non-null  object \n",
            " 2   Amount           100000 non-null  float64\n",
            " 3   MerchantID       100000 non-null  int64  \n",
            " 4   TransactionType  100000 non-null  object \n",
            " 5   Location         100000 non-null  object \n",
            " 6   IsFraud          100000 non-null  int64  \n",
            "dtypes: float64(1), int64(3), object(3)\n",
            "memory usage: 5.3+ MB\n",
            "None\n",
            "       TransactionID         Amount     MerchantID        IsFraud\n",
            "count  100000.000000  100000.000000  100000.000000  100000.000000\n",
            "mean    50000.500000    2497.092666     501.676070       0.010000\n",
            "std     28867.657797    1442.415999     288.715868       0.099499\n",
            "min         1.000000       1.050000       1.000000       0.000000\n",
            "25%     25000.750000    1247.955000     252.000000       0.000000\n",
            "50%     50000.500000    2496.500000     503.000000       0.000000\n",
            "75%     75000.250000    3743.592500     753.000000       0.000000\n",
            "max    100000.000000    4999.770000    1000.000000       1.000000\n",
            "TransactionID      0\n",
            "TransactionDate    0\n",
            "Amount             0\n",
            "MerchantID         0\n",
            "TransactionType    0\n",
            "Location           0\n",
            "IsFraud            0\n",
            "dtype: int64\n"
          ]
        }
      ]
    },
    {
      "cell_type": "code",
      "source": [
        "# Display the first few rows of the dataset\n",
        "print(data.head())\n",
        "\n",
        "# Check for missing values\n",
        "print(data.isnull().sum())\n",
        "\n"
      ],
      "metadata": {
        "colab": {
          "base_uri": "https://localhost:8080/"
        },
        "id": "C2CPUnaJWL4b",
        "outputId": "03120587-28ce-43ee-c401-bcbeea171d12"
      },
      "execution_count": 22,
      "outputs": [
        {
          "output_type": "stream",
          "name": "stdout",
          "text": [
            "   TransactionID             TransactionDate   Amount  MerchantID  \\\n",
            "0              1  2024-04-03 14:15:35.462794  4189.27         688   \n",
            "1              2  2024-03-19 13:20:35.462824  2659.71         109   \n",
            "2              3  2024-01-08 10:08:35.462834   784.00         394   \n",
            "3              4  2024-04-13 23:50:35.462850  3514.40         944   \n",
            "4              5  2024-07-12 18:51:35.462858   369.07         475   \n",
            "\n",
            "  TransactionType      Location  IsFraud  \n",
            "0          refund   San Antonio        0  \n",
            "1          refund        Dallas        0  \n",
            "2        purchase      New York        0  \n",
            "3        purchase  Philadelphia        0  \n",
            "4        purchase       Phoenix        0  \n",
            "TransactionID      0\n",
            "TransactionDate    0\n",
            "Amount             0\n",
            "MerchantID         0\n",
            "TransactionType    0\n",
            "Location           0\n",
            "IsFraud            0\n",
            "dtype: int64\n"
          ]
        }
      ]
    },
    {
      "cell_type": "code",
      "source": [
        "import pandas as pd\n",
        "\n",
        "# Load the dataset\n",
        "data = pd.read_csv('credit_card_fraud_dataset.csv')\n",
        "\n",
        "# Display the first few rows to understand its structure\n",
        "print(data.head())\n",
        "\n",
        "# Check the column names\n",
        "print(data.columns)\n"
      ],
      "metadata": {
        "colab": {
          "base_uri": "https://localhost:8080/"
        },
        "id": "D_DFN4biYL8t",
        "outputId": "38e2791f-dbb3-4ac5-b7c0-0183a02a3148"
      },
      "execution_count": 29,
      "outputs": [
        {
          "output_type": "stream",
          "name": "stdout",
          "text": [
            "   TransactionID             TransactionDate   Amount  MerchantID  \\\n",
            "0              1  2024-04-03 14:15:35.462794  4189.27         688   \n",
            "1              2  2024-03-19 13:20:35.462824  2659.71         109   \n",
            "2              3  2024-01-08 10:08:35.462834   784.00         394   \n",
            "3              4  2024-04-13 23:50:35.462850  3514.40         944   \n",
            "4              5  2024-07-12 18:51:35.462858   369.07         475   \n",
            "\n",
            "  TransactionType      Location  IsFraud  \n",
            "0          refund   San Antonio        0  \n",
            "1          refund        Dallas        0  \n",
            "2        purchase      New York        0  \n",
            "3        purchase  Philadelphia        0  \n",
            "4        purchase       Phoenix        0  \n",
            "Index(['TransactionID', 'TransactionDate', 'Amount', 'MerchantID',\n",
            "       'TransactionType', 'Location', 'IsFraud'],\n",
            "      dtype='object')\n"
          ]
        }
      ]
    },
    {
      "cell_type": "code",
      "source": [
        "import pandas as pd\n",
        "\n",
        "# Load your dataset\n",
        "data = pd.read_csv('credit_card_fraud_dataset.csv')\n",
        "\n",
        "# Display all column names\n",
        "print(data.columns.tolist())\n"
      ],
      "metadata": {
        "colab": {
          "base_uri": "https://localhost:8080/"
        },
        "id": "WocZ2UyYZe86",
        "outputId": "c552f1c9-a854-4a62-e2e0-76e29eaf4b66"
      },
      "execution_count": 36,
      "outputs": [
        {
          "output_type": "stream",
          "name": "stdout",
          "text": [
            "['TransactionID', 'TransactionDate', 'Amount', 'MerchantID', 'TransactionType', 'Location', 'IsFraud']\n"
          ]
        }
      ]
    },
    {
      "cell_type": "code",
      "source": [
        "from sklearn.model_selection import train_test_split\n",
        "from sklearn.ensemble import RandomForestClassifier\n",
        "from sklearn.metrics import classification_report, confusion_matrix, roc_auc_score\n",
        "import matplotlib.pyplot as plt\n",
        "import seaborn as sns\n",
        "from sklearn.preprocessing import StandardScaler # Import StandardScaler\n",
        "\n",
        "# Assuming 'data' is your DataFrame and 'TargetColumn' is your target column\n",
        "# Exclude non-numeric columns from scaling\n",
        "X = data.select_dtypes(include=np.number).drop('IsFraud', axis=1) # Assuming 'IsFraud' is your target column and selecting only numerical features\n",
        "y = data['IsFraud']  # Replace 'TargetColumn' with your actual target column name\n",
        "\n",
        "# Standardize the features\n",
        "scaler = StandardScaler()\n",
        "X_scaled = scaler.fit_transform(X) # Calculate X_scaled\n",
        "\n",
        "# Split the data into training and testing sets\n",
        "X_train, X_test, y_train, y_test = train_test_split(X_scaled, y, test_size=0.2, random_state=42)\n",
        "\n",
        "# Initialize the Random Forest Classifier\n",
        "rf_classifier = RandomForestClassifier(n_estimators=100, random_state=42)\n",
        "\n",
        "# Train the model\n",
        "rf_classifier.fit(X_train, y_train)\n",
        "\n",
        "# Make predictions on the test set\n",
        "y_pred = rf_classifier.predict(X_test)\n",
        "\n",
        "# Confusion Matrix\n"
      ],
      "metadata": {
        "id": "wYdjt3ZdbEmZ"
      },
      "execution_count": 43,
      "outputs": []
    },
    {
      "cell_type": "code",
      "source": [
        "from sklearn.model_selection import train_test_split\n",
        "from sklearn.ensemble import RandomForestClassifier\n",
        "from sklearn.metrics import classification_report, confusion_matrix, roc_auc_score\n",
        "import matplotlib.pyplot as plt\n",
        "import seaborn as sns\n",
        "\n",
        "# Define features and target\n",
        "X = X_scaled\n",
        "y = data['IsFraud']  # Replace 'TargetColumn' with your actual target column name\n",
        "\n",
        "# Split the data into training and testing sets\n",
        "X_train, X_test, y_train, y_test = train_test_split(X, y, test_size=0.2, random_state=42)\n",
        "\n",
        "# Initialize the Random Forest Classifier\n",
        "rf_classifier = RandomForestClassifier(n_estimators=100, random_state=42)\n",
        "\n",
        "# Train the model\n",
        "rf_classifier.fit(X_train, y_train)\n",
        "\n",
        "# Make predictions on the test set\n",
        "y_pred = rf_classifier.predict(X_test)\n",
        "\n",
        "# Confusion Matrix\n",
        "conf_matrix = confusion_matrix(y_test, y_pred)\n",
        "print('Confusion Matrix:')\n",
        "print(conf_matrix)\n",
        "\n",
        "# Classification Report\n",
        "class_report = classification_report(y_test, y_pred)\n",
        "print('Classification Report:')\n",
        "print(class_report)\n",
        "\n",
        "# ROC-AUC Score\n",
        "roc_auc = roc_auc_score(y_test, rf_classifier.predict_proba(X_test)[:, 1])\n",
        "print(f'ROC-AUC Score: {roc_auc:.2f}')\n",
        "\n",
        "# Plot the confusion matrix\n",
        "plt.figure(figsize=(8, 6))\n",
        "sns.heatmap(conf_matrix, annot=True, fmt='d', cmap='Blues', xticklabels=['Non-Fraud', 'Fraud'], yticklabels=['Non-Fraud', 'Fraud'])\n",
        "plt.xlabel('Predicted')\n",
        "plt.ylabel('Actual')\n",
        "plt.title('Confusion Matrix')\n",
        "plt.show()\n"
      ],
      "metadata": {
        "colab": {
          "base_uri": "https://localhost:8080/",
          "height": 931
        },
        "id": "xOfLhSeZbWhL",
        "outputId": "faa4c151-ab95-4d4f-efca-58f654c41a89"
      },
      "execution_count": 44,
      "outputs": [
        {
          "output_type": "stream",
          "name": "stdout",
          "text": [
            "Confusion Matrix:\n",
            "[[19787     0]\n",
            " [  213     0]]\n",
            "Classification Report:\n",
            "              precision    recall  f1-score   support\n",
            "\n",
            "           0       0.99      1.00      0.99     19787\n",
            "           1       0.00      0.00      0.00       213\n",
            "\n",
            "    accuracy                           0.99     20000\n",
            "   macro avg       0.49      0.50      0.50     20000\n",
            "weighted avg       0.98      0.99      0.98     20000\n",
            "\n"
          ]
        },
        {
          "output_type": "stream",
          "name": "stderr",
          "text": [
            "/usr/local/lib/python3.10/dist-packages/sklearn/metrics/_classification.py:1565: UndefinedMetricWarning: Precision is ill-defined and being set to 0.0 in labels with no predicted samples. Use `zero_division` parameter to control this behavior.\n",
            "  _warn_prf(average, modifier, f\"{metric.capitalize()} is\", len(result))\n",
            "/usr/local/lib/python3.10/dist-packages/sklearn/metrics/_classification.py:1565: UndefinedMetricWarning: Precision is ill-defined and being set to 0.0 in labels with no predicted samples. Use `zero_division` parameter to control this behavior.\n",
            "  _warn_prf(average, modifier, f\"{metric.capitalize()} is\", len(result))\n",
            "/usr/local/lib/python3.10/dist-packages/sklearn/metrics/_classification.py:1565: UndefinedMetricWarning: Precision is ill-defined and being set to 0.0 in labels with no predicted samples. Use `zero_division` parameter to control this behavior.\n",
            "  _warn_prf(average, modifier, f\"{metric.capitalize()} is\", len(result))\n"
          ]
        },
        {
          "output_type": "stream",
          "name": "stdout",
          "text": [
            "ROC-AUC Score: 0.51\n"
          ]
        },
        {
          "output_type": "display_data",
          "data": {
            "text/plain": [
              "<Figure size 800x600 with 2 Axes>"
            ],
            "image/png": "[encoded data removed]"
          },
          "metadata": {}
        }
      ]
    }
  ]
}